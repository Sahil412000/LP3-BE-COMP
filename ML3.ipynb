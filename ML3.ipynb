{
 "cells": [
  {
   "cell_type": "code",
   "execution_count": 1,
   "metadata": {},
   "outputs": [],
   "source": [
    "import math"
   ]
  },
  {
   "cell_type": "code",
   "execution_count": 2,
   "metadata": {},
   "outputs": [],
   "source": [
    "def euclideanDistance(row1,row2):\n",
    "    distance = 0.0\n",
    "    for i in range(len(row1)-1):\n",
    "        distance +=(row1[i]-row2[i])**2\n",
    "    return math.sqrt(distance)"
   ]
  },
  {
   "cell_type": "code",
   "execution_count": 10,
   "metadata": {},
   "outputs": [],
   "source": [
    "def getneighbors(train,test_row,num_neighbors):\n",
    "    distances = list()\n",
    "    for train_row in train:\n",
    "        dist = euclideanDistance(train_row,test_row)\n",
    "        distances.append((train_row,dist))\n",
    "    distances.sort(key=lambda tup:tup[1])\n",
    "    neighbors = list()\n",
    "    for i in range(num_neighbors):\n",
    "        neighbors.append(distances[i][0])\n",
    "    return neighbors"
   ]
  },
  {
   "cell_type": "code",
   "execution_count": 11,
   "metadata": {},
   "outputs": [
    {
     "name": "stdout",
     "output_type": "stream",
     "text": [
      "Data point :  [6, 6]\n",
      "Nearest Neighbors :  [[4, 6, 'Orange'], [6, 4, 'Orange'], [4, 4, 'Blue']]\n",
      "Prediction :  Orange \n",
      "\n",
      "Data point :  [8, 4]\n",
      "Nearest Neighbors :  [[6, 4, 'Orange'], [8, 2, 'Blue'], [6, 2, 'Blue']]\n",
      "Prediction :  Blue \n",
      "\n"
     ]
    }
   ],
   "source": [
    "train_data= [[2, 4, \"Orange\"], [4, 4, \"Blue\"], [4, 6, \"Orange\"], [4, 2, \"Orange\"], [6, 2, \"Blue\"], [6, 4, \"Orange\"], [8, 2, \"Blue\"]]\n",
    "test_data= [[6, 6], [8, 4]]\n",
    "\n",
    "for item in test_data:      \n",
    "     print(\"Data point : \", item)\n",
    "     neighbors = getneighbors(train_data,item,3)\n",
    "     print(\"Nearest Neighbors : \", neighbors)\n",
    "     output_values=[row[-1] for row in neighbors]\n",
    "     prediction = max(set(output_values),key=output_values.count)\n",
    "     print(\"Prediction : \", prediction, \"\\n\")"
   ]
  }
 ],
 "metadata": {
  "interpreter": {
   "hash": "296ef056cad934ceab0131fc08b63d03a5aa8780bf386403a28c0ad982850154"
  },
  "kernelspec": {
   "display_name": "Python 3.9.1 64-bit",
   "language": "python",
   "name": "python3"
  },
  "language_info": {
   "codemirror_mode": {
    "name": "ipython",
    "version": 3
   },
   "file_extension": ".py",
   "mimetype": "text/x-python",
   "name": "python",
   "nbconvert_exporter": "python",
   "pygments_lexer": "ipython3",
   "version": "3.9.1"
  }
 },
 "nbformat": 4,
 "nbformat_minor": 2
}
